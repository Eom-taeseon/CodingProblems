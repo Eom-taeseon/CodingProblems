{
 "cells": [
  {
   "cell_type": "code",
   "execution_count": null,
   "id": "c184ba21",
   "metadata": {},
   "outputs": [],
   "source": [
    "import sys"
   ]
  },
  {
   "cell_type": "code",
   "execution_count": null,
   "id": "8017ba3b",
   "metadata": {},
   "outputs": [],
   "source": [
    "#k, n = map(int, sys.stdin.readline().split()) # 시간초과 에러를 없애기 위한 코딩 / 다만 jupyter에서는 사용 불가\n",
    "k, n = map(int, input().split()) # 시간초과 에러가 발생할 수 있지만 jupyter에서는 이걸 사용하자\n",
    "\n",
    "if k < 1 or pow(10, 4) < k:\n",
    "    sys.exit()\n",
    "    \n",
    "if n < 1 or pow(10, 2) < n:\n",
    "    sys.exit()"
   ]
  },
  {
   "cell_type": "code",
   "execution_count": null,
   "id": "763020d7",
   "metadata": {},
   "outputs": [],
   "source": [
    "working_time = list() # 작업 시간\n",
    "moving_time = list() # 이동 시간\n",
    "\n",
    "for j in range(n-1): # 마지막 줄만 별도로 처리\n",
    "    input_line = list(map(int, input().split()))\n",
    "    \n",
    "    if len(input_line) - 1 == k: # 작업장 개수가 정상인 경우\n",
    "        working_time.append(input_line[:-1]) # 작업라인 당 작업장 작업시간 입력\n",
    "        moving_time.append(input_line[-1]) # 작업라인 간 이동 시간 입력\n",
    "    \n",
    "    else: # 작업장 개수가 비정상인 경우\n",
    "        sys.exit()\n",
    "    \n",
    "# 마지막 줄 처리\n",
    "input_line = list(map(int, input().split()))\n",
    "\n",
    "if len(input_line) == k: # 작업장 개수가 정상인 경우\n",
    "    working_time.append(input_line) # 작업라인 당 작업장 작업시간 입력\n",
    "    #moving_time.append(0) # 작업라인 간 이동 시간 입력\n",
    "    \n",
    "else: # 작업장 개수가 비정상인 경우\n",
    "    sys.exit"
   ]
  },
  {
   "cell_type": "code",
   "execution_count": null,
   "id": "a97fd06c",
   "metadata": {},
   "outputs": [],
   "source": [
    "for j in range(n-1): # 작업장 줄 별로 확인\n",
    "    #print(\"\\n#####\\n\")\n",
    "    tmp_min = min(working_time[j]) # 가장 적은 시간이 걸리는 작업장\n",
    "    #print(working_time[j])\n",
    "    #print(tmp_min)\n",
    "    \n",
    "    for i in range(k): # 작업 라인별로 확인\n",
    "        #print(working_time[j+1][i], end=\"->\")\n",
    "        \n",
    "        next_without_moving = working_time[j+1][i] + working_time[j][i] # 이동시간 포함 X\n",
    "        next_with_moving = working_time[j+1][i] + tmp_min + moving_time[j]\n",
    "        \n",
    "        next_time = min([next_without_moving, next_with_moving])\n",
    "        working_time[j+1][i] = next_time\n",
    "        #print(working_time[j+1][i])\n",
    "\n",
    "print(min(working_time[n-1]))"
   ]
  }
 ],
 "metadata": {
  "kernelspec": {
   "display_name": "Python 3 (ipykernel)",
   "language": "python",
   "name": "python3"
  },
  "language_info": {
   "codemirror_mode": {
    "name": "ipython",
    "version": 3
   },
   "file_extension": ".py",
   "mimetype": "text/x-python",
   "name": "python",
   "nbconvert_exporter": "python",
   "pygments_lexer": "ipython3",
   "version": "3.9.13"
  }
 },
 "nbformat": 4,
 "nbformat_minor": 5
}
