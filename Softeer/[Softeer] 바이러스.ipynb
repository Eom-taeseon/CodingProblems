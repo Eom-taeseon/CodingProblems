{
 "cells": [
  {
   "cell_type": "code",
   "execution_count": 6,
   "id": "03404f92",
   "metadata": {},
   "outputs": [
    {
     "name": "stdout",
     "output_type": "stream",
     "text": [
      "2\n",
      "3\n",
      "2\n"
     ]
    }
   ],
   "source": [
    "k = int(input()) # 바이러스의 수\n",
    "p = int(input()) # 증가율\n",
    "n = int(input()) # 총 시간"
   ]
  },
  {
   "cell_type": "code",
   "execution_count": 7,
   "id": "0d41f802",
   "metadata": {},
   "outputs": [],
   "source": [
    "sec = 1\n",
    "\n",
    "while sec <= n:\n",
    "    k *= p\n",
    "    sec += 1"
   ]
  },
  {
   "cell_type": "code",
   "execution_count": 8,
   "id": "62a4361b",
   "metadata": {},
   "outputs": [],
   "source": [
    "output = k % 1000000007\n",
    "print(output)"
   ]
  }
 ],
 "metadata": {
  "kernelspec": {
   "display_name": "Python 3 (ipykernel)",
   "language": "python",
   "name": "python3"
  },
  "language_info": {
   "codemirror_mode": {
    "name": "ipython",
    "version": 3
   },
   "file_extension": ".py",
   "mimetype": "text/x-python",
   "name": "python",
   "nbconvert_exporter": "python",
   "pygments_lexer": "ipython3",
   "version": "3.9.13"
  }
 },
 "nbformat": 4,
 "nbformat_minor": 5
}
