{
 "cells": [
  {
   "cell_type": "markdown",
   "id": "d884a6c5",
   "metadata": {},
   "source": [
    "# H는 조직도 트리의 높이 (1 <= H <= 10)\n",
    "while True:\n",
    "    h = int(input(\"H는 조직도 트리의 높이 (1 <= H <= 10) : \"))\n",
    "    \n",
    "    if 1<=h or h<=10:\n",
    "        break\n",
    "        \n",
    "    else:\n",
    "        print(\"범위가 틀렸습니다.\\n\")\n",
    "    \n",
    "# K는 직원 당 주어진 업무의 개수 (1 <= K <= 10)\n",
    "while True:\n",
    "    k = int(input(\"K는 직원 당 주어진 업무의 개수 (1 <= K <= 10) : \"))\n",
    "    \n",
    "    if 1<=k or k<=10:\n",
    "        break\n",
    "        \n",
    "    else:\n",
    "        print(\"범위가 틀렸습니다.\\n\")\n",
    "        \n",
    "        \n",
    "# R은 업무 진행 일 수 (1 <= R <= 1000)\n",
    "while True:\n",
    "    r = int(input(\"R은 업무 진행 일 수 (1 <= R <= 1000) : \"))\n",
    "    \n",
    "    if 1<=r or r<=1000:\n",
    "        break\n",
    "        \n",
    "    else:\n",
    "        print(\"범위가 틀렸습니다.\\n\")"
   ]
  },
  {
   "cell_type": "code",
   "execution_count": 1,
   "id": "554b2eb3",
   "metadata": {},
   "outputs": [],
   "source": [
    "# 이진트리 구현\n",
    "class Node:\n",
    "    def __init__(self, item):\n",
    "        self.item = item\n",
    "        self.left = None\n",
    "        self.right = None"
   ]
  },
  {
   "cell_type": "code",
   "execution_count": 2,
   "id": "19d0c25a",
   "metadata": {},
   "outputs": [],
   "source": [
    "def get_tree(tree):\n",
    "    # 부장님부터 트리 이어주기\n",
    "    tree[0].left = tree[1]\n",
    "    tree[0].right = tree[2]\n",
    "\n",
    "    # 부하직원들 트리 이어주기\n",
    "    get_tree = int(((total_emp-1) / 2) - 1) # 자식 트리가 있는 노드만 추출\n",
    "    for p_tree in range(1, get_tree+1): # 부장님 제외 부하직원들\n",
    "        #print(p_tree, end=' : ')\n",
    "        #print(p_tree*2+1, p_tree*2+2)\n",
    "        tree[p_tree].left = tree[p_tree*2+1]\n",
    "        tree[p_tree].right = tree[p_tree*2+2]\n",
    "        \n",
    "    return tree"
   ]
  },
  {
   "cell_type": "code",
   "execution_count": 3,
   "id": "a3549df1",
   "metadata": {},
   "outputs": [],
   "source": [
    "# 트리 초기화\n",
    "def init_tree():\n",
    "    tree = [Node([0]) for i in range(total_emp)]\n",
    "    tree = get_tree(tree)\n",
    "    \n",
    "    return tree"
   ]
  },
  {
   "cell_type": "code",
   "execution_count": 4,
   "id": "a3f3e6f8",
   "metadata": {},
   "outputs": [
    {
     "name": "stdout",
     "output_type": "stream",
     "text": [
      "3 3 7\n"
     ]
    }
   ],
   "source": [
    "while True:\n",
    "    h, k, r = map(int, input().split())\n",
    "\n",
    "    if 1<=h and h<=10:\n",
    "        if 1<=k and k<=10:\n",
    "            if 1<=r and r<=1000:\n",
    "                break\n",
    "    \n",
    "    else:\n",
    "        print(\"범위가 틀립니다.\")\n",
    "        continue"
   ]
  },
  {
   "cell_type": "code",
   "execution_count": 5,
   "id": "9cf8bac2",
   "metadata": {},
   "outputs": [
    {
     "name": "stdout",
     "output_type": "stream",
     "text": [
      "\n",
      "#####\n",
      "\n",
      "조직도 트리 높이 h = 3\n",
      "직원 당 주어진 업무의 개수 k = 3\n",
      "업무 진행 일 수 r = 7\n"
     ]
    }
   ],
   "source": [
    "print(\"\\n#####\\n\")\n",
    "print(\"조직도 트리 높이 h = {}\".format(h))\n",
    "print(\"직원 당 주어진 업무의 개수 k = {}\".format(k))\n",
    "print(\"업무 진행 일 수 r = {}\".format(r))"
   ]
  },
  {
   "cell_type": "code",
   "execution_count": 6,
   "id": "de2e0f79",
   "metadata": {},
   "outputs": [],
   "source": [
    "# 총 직원수 계산\n",
    "total_emp = 1\n",
    "emp_num = 1\n",
    "for emp_layer in range(h):\n",
    "    emp_num = emp_num*2  \n",
    "    #print(emp_num)\n",
    "    total_emp += emp_num\n",
    "    \n",
    "#print(\"부장님 포함 총 직원 수 :\", total_emp)"
   ]
  },
  {
   "cell_type": "code",
   "execution_count": 14,
   "id": "68af22fc",
   "metadata": {},
   "outputs": [
    {
     "ename": "KeyboardInterrupt",
     "evalue": "Interrupted by user",
     "output_type": "error",
     "traceback": [
      "\u001b[1;31m---------------------------------------------------------------------------\u001b[0m",
      "\u001b[1;31mKeyboardInterrupt\u001b[0m                         Traceback (most recent call last)",
      "\u001b[1;32m~\\AppData\\Local\\Temp\\ipykernel_15412\\40881930.py\u001b[0m in \u001b[0;36m<module>\u001b[1;34m\u001b[0m\n\u001b[0;32m      9\u001b[0m \u001b[1;32mfor\u001b[0m \u001b[0memps\u001b[0m \u001b[1;32min\u001b[0m \u001b[0mrange\u001b[0m\u001b[1;33m(\u001b[0m\u001b[0memployees\u001b[0m\u001b[1;33m-\u001b[0m\u001b[1;36m1\u001b[0m\u001b[1;33m,\u001b[0m \u001b[0mtotal_emp\u001b[0m\u001b[1;33m)\u001b[0m\u001b[1;33m:\u001b[0m\u001b[1;33m\u001b[0m\u001b[1;33m\u001b[0m\u001b[0m\n\u001b[0;32m     10\u001b[0m     \u001b[1;31m#print(\"말단 직원 {}에게 업무 할당 시작(총 {}개 업무 줄 것)\".format(emps, k), end=' ')\u001b[0m\u001b[1;33m\u001b[0m\u001b[1;33m\u001b[0m\u001b[0m\n\u001b[1;32m---> 11\u001b[1;33m     \u001b[0memp_per_works\u001b[0m \u001b[1;33m=\u001b[0m \u001b[1;33m[\u001b[0m\u001b[1;33m*\u001b[0m\u001b[0mmap\u001b[0m\u001b[1;33m(\u001b[0m\u001b[0mint\u001b[0m\u001b[1;33m,\u001b[0m\u001b[0minput\u001b[0m\u001b[1;33m(\u001b[0m\u001b[1;33m)\u001b[0m\u001b[1;33m.\u001b[0m\u001b[0msplit\u001b[0m\u001b[1;33m(\u001b[0m\u001b[1;33m)\u001b[0m\u001b[1;33m)\u001b[0m\u001b[1;33m]\u001b[0m \u001b[1;31m# 직원 한 명에게 주어진 업무 (1차원 배열)\u001b[0m\u001b[1;33m\u001b[0m\u001b[1;33m\u001b[0m\u001b[0m\n\u001b[0m\u001b[0;32m     12\u001b[0m \u001b[1;33m\u001b[0m\u001b[0m\n\u001b[0;32m     13\u001b[0m     \u001b[0mtree\u001b[0m\u001b[1;33m[\u001b[0m\u001b[0memps\u001b[0m\u001b[1;33m]\u001b[0m \u001b[1;33m=\u001b[0m \u001b[0mNode\u001b[0m\u001b[1;33m(\u001b[0m\u001b[0memp_per_works\u001b[0m\u001b[1;33m)\u001b[0m\u001b[1;33m\u001b[0m\u001b[1;33m\u001b[0m\u001b[0m\n",
      "\u001b[1;32m~\\anaconda3\\lib\\site-packages\\ipykernel\\kernelbase.py\u001b[0m in \u001b[0;36mraw_input\u001b[1;34m(self, prompt)\u001b[0m\n\u001b[0;32m   1175\u001b[0m                 \u001b[1;34m\"raw_input was called, but this frontend does not support input requests.\"\u001b[0m\u001b[1;33m\u001b[0m\u001b[1;33m\u001b[0m\u001b[0m\n\u001b[0;32m   1176\u001b[0m             )\n\u001b[1;32m-> 1177\u001b[1;33m         return self._input_request(\n\u001b[0m\u001b[0;32m   1178\u001b[0m             \u001b[0mstr\u001b[0m\u001b[1;33m(\u001b[0m\u001b[0mprompt\u001b[0m\u001b[1;33m)\u001b[0m\u001b[1;33m,\u001b[0m\u001b[1;33m\u001b[0m\u001b[1;33m\u001b[0m\u001b[0m\n\u001b[0;32m   1179\u001b[0m             \u001b[0mself\u001b[0m\u001b[1;33m.\u001b[0m\u001b[0m_parent_ident\u001b[0m\u001b[1;33m[\u001b[0m\u001b[1;34m\"shell\"\u001b[0m\u001b[1;33m]\u001b[0m\u001b[1;33m,\u001b[0m\u001b[1;33m\u001b[0m\u001b[1;33m\u001b[0m\u001b[0m\n",
      "\u001b[1;32m~\\anaconda3\\lib\\site-packages\\ipykernel\\kernelbase.py\u001b[0m in \u001b[0;36m_input_request\u001b[1;34m(self, prompt, ident, parent, password)\u001b[0m\n\u001b[0;32m   1217\u001b[0m             \u001b[1;32mexcept\u001b[0m \u001b[0mKeyboardInterrupt\u001b[0m\u001b[1;33m:\u001b[0m\u001b[1;33m\u001b[0m\u001b[1;33m\u001b[0m\u001b[0m\n\u001b[0;32m   1218\u001b[0m                 \u001b[1;31m# re-raise KeyboardInterrupt, to truncate traceback\u001b[0m\u001b[1;33m\u001b[0m\u001b[1;33m\u001b[0m\u001b[0m\n\u001b[1;32m-> 1219\u001b[1;33m                 \u001b[1;32mraise\u001b[0m \u001b[0mKeyboardInterrupt\u001b[0m\u001b[1;33m(\u001b[0m\u001b[1;34m\"Interrupted by user\"\u001b[0m\u001b[1;33m)\u001b[0m \u001b[1;32mfrom\u001b[0m \u001b[1;32mNone\u001b[0m\u001b[1;33m\u001b[0m\u001b[1;33m\u001b[0m\u001b[0m\n\u001b[0m\u001b[0;32m   1220\u001b[0m             \u001b[1;32mexcept\u001b[0m \u001b[0mException\u001b[0m\u001b[1;33m:\u001b[0m\u001b[1;33m\u001b[0m\u001b[1;33m\u001b[0m\u001b[0m\n\u001b[0;32m   1221\u001b[0m                 \u001b[0mself\u001b[0m\u001b[1;33m.\u001b[0m\u001b[0mlog\u001b[0m\u001b[1;33m.\u001b[0m\u001b[0mwarning\u001b[0m\u001b[1;33m(\u001b[0m\u001b[1;34m\"Invalid Message:\"\u001b[0m\u001b[1;33m,\u001b[0m \u001b[0mexc_info\u001b[0m\u001b[1;33m=\u001b[0m\u001b[1;32mTrue\u001b[0m\u001b[1;33m)\u001b[0m\u001b[1;33m\u001b[0m\u001b[1;33m\u001b[0m\u001b[0m\n",
      "\u001b[1;31mKeyboardInterrupt\u001b[0m: Interrupted by user"
     ]
    }
   ],
   "source": [
    "# 말단 직원 인원 수 = h * 2\n",
    "employees = pow(2, h)\n",
    "\n",
    "#emp_total_works = list() # 2차원 배열로 업무 번호 저장\n",
    "#work_ = 0\n",
    "\n",
    "tree = init_tree()\n",
    "# 말단 직원 수 만큼 입력하기\n",
    "for emps in range(employees-1, total_emp):\n",
    "    #print(\"말단 직원 {}에게 업무 할당 시작(총 {}개 업무 줄 것)\".format(emps, k), end=' ')\n",
    "    emp_per_works = [*map(int,input().split())] # 직원 한 명에게 주어진 업무 (1차원 배열)\n",
    "        \n",
    "    tree[emps] = Node(emp_per_works)\n",
    "    #emp_total_works.append(emp_per_works)"
   ]
  },
  {
   "cell_type": "code",
   "execution_count": 8,
   "id": "0dddfaac",
   "metadata": {},
   "outputs": [],
   "source": [
    "def get_work_left(emp_num):\n",
    "    #print(\"{} 직원의 현재 업무 list : {}\".format(emp_num, tree[emp_num].item), end=' / ')\n",
    "    list_temp = tree[emp_num].item # 현재 직원의 수정 전 업무 복사\n",
    "    \n",
    "    if len(list_temp) == 0:\n",
    "        list_temp = [0]  \n",
    "    \n",
    "    try: # 부하 직원이 있는 경우에만 작동\n",
    "        next_work = tree[emp_num].left.item[0] # 왼쪽 직원이 처리한 업무 갖고오기\n",
    "        list_temp.append(next_work) # 왼쪽 직원이 처리한 업무 추가\n",
    "        \n",
    "        if emp_num % 2 == 1:\n",
    "            #print(\"!\", end = ' ')\n",
    "            del list_temp[0] # 이미 처리한 업무 삭제\n",
    "            \n",
    "        if len(list_temp) > 1 and list_temp[0] == 0:\n",
    "            del list_temp[0]\n",
    "            \n",
    "    except: # 부하 직원이 없는 말단 직원인 경우에만 작동\n",
    "        if emp_num % 2 == 1:\n",
    "            del list_temp[0]\n",
    "            \n",
    "    tree[emp_num].item = list_temp\n",
    "    #print(\"수정된 업무 list : {}\".format(tree[emp_num].item))\n",
    "    \n",
    "    return tree[emp_num]"
   ]
  },
  {
   "cell_type": "code",
   "execution_count": 9,
   "id": "578e91d1",
   "metadata": {},
   "outputs": [],
   "source": [
    "def get_work_right(emp_num):\n",
    "    #print(\"{} 직원의 현재 업무 list : {}\".format(emp_num, tree[emp_num].item), end=' / ')\n",
    "    list_temp = tree[emp_num].item # 현재 직원의 수정 전 업무 복사\n",
    "    \n",
    "    if len(list_temp) == 0:\n",
    "        list_temp = [0]\n",
    "    \n",
    "    try: # 부하 직원이 있는 경우에만 작동\n",
    "        next_work = tree[emp_num].right.item[0] # 오른쪽 직원이 처리한 업무 갖고오기\n",
    "        list_temp.append(next_work) # 오른쪽 직원이 처리한 업무 추가\n",
    "        \n",
    "        if emp_num % 2 == 0:\n",
    "            #print(\"!\", end = ' ')\n",
    "            del list_temp[0] # 이미 처리한 업무 삭제\n",
    "\n",
    "        if len(list_temp) > 1 and list_temp[0] == 0:\n",
    "            del list_temp[0]\n",
    "            \n",
    "    except: # 부하 직원이 없는 말단 직원인 경우에만 작동\n",
    "        if emp_num % 2 == 0:\n",
    "            del list_temp[0]\n",
    "                    \n",
    "    tree[emp_num].item = list_temp\n",
    "    #print(\"수정된 업무 list : {}\".format(tree[emp_num].item))\n",
    "    \n",
    "    return tree[emp_num]"
   ]
  },
  {
   "cell_type": "code",
   "execution_count": 10,
   "id": "0b8c9ab4",
   "metadata": {},
   "outputs": [],
   "source": [
    "def finish_boss_work():\n",
    "    #print(tree[0].item[0])\n",
    "    if tree[0].item[0] != 0:\n",
    "        del tree[0].item[0]\n",
    "        \n",
    "    if len(tree[0].item) == 0:\n",
    "        tree[0].item = [0]\n",
    "        \n",
    "    return tree[0]"
   ]
  },
  {
   "cell_type": "code",
   "execution_count": 11,
   "id": "602dd2cd",
   "metadata": {},
   "outputs": [],
   "source": [
    "def get_remove_zero(emp_num):\n",
    "    list_temp = tree[emp_num].item\n",
    "    #print(list_temp)\n",
    "    if len(list_temp) > 1:\n",
    "        while 0 in list_temp:\n",
    "            list_temp.remove(0)\n",
    "            \n",
    "    if len(list_temp) == 0:\n",
    "        list_temp = [0]\n",
    "\n",
    "    #print(list_temp)\n",
    "    tree[emp_num].item = list_temp\n",
    "    return tree[emp_num]"
   ]
  },
  {
   "cell_type": "code",
   "execution_count": 12,
   "id": "847a6aa2",
   "metadata": {},
   "outputs": [],
   "source": [
    "count = 0\n",
    "count_prev = count\n",
    "for days in range(2, r+1):\n",
    "    tree = get_tree(tree)\n",
    "    #print(\"\\n#####\\n\")\n",
    "    #print(\"day :\", days)\n",
    "    \n",
    "    #print(\"오늘의 업무 확인\")\n",
    "    for emp_working in range(total_emp):\n",
    "        tree[emp_working] = get_remove_zero(emp_working)\n",
    "        #print(\"{} 직원의 현재 업무 : {}\".format(emp_working, tree[emp_working].item))\n",
    "        \n",
    "    if days % 2 == 1: # 홀수 날에는 왼쪽 부하직원의 업무 처리\n",
    "        #print(\"\\n홀수 날에는 왼쪽 부하직원의 업무 처리\")\n",
    "        for emp_working in range(total_emp):\n",
    "            tree[emp_working] = get_work_left(emp_working)\n",
    "\n",
    "    elif days % 2 == 0: # 짝수 날에는 오른쪽 부하 직원의 업무 처리\n",
    "        #print(\"\\n짝수 날에는 오른쪽 부하 직원의 업무 처리\")\n",
    "        for emp_working in range(total_emp):\n",
    "            tree[emp_working] = get_work_right(emp_working)\n",
    "\n",
    "    # 처리한 업무 번호 구하기\n",
    "    count += tree[0].item[0]\n",
    "    #print(\"\\n금일 부장님의 업무 처리 번호 : {}\".format(tree[0].item))\n",
    "    tree[0] = finish_boss_work()\n",
    "    #print(\"완료된 업무 번호 총 합 : {}\".format(count))\n",
    "    #print()\n",
    "    \n",
    "    if count > 0: # 업무 변화량이 없는 경우\n",
    "        if count == count_prev:\n",
    "            #print(\"더 이상 업무가 없습니다\")\n",
    "            break\n",
    "    count_prev = count"
   ]
  },
  {
   "cell_type": "code",
   "execution_count": 13,
   "id": "28049a87",
   "metadata": {},
   "outputs": [
    {
     "name": "stdout",
     "output_type": "stream",
     "text": [
      "52\n"
     ]
    }
   ],
   "source": [
    "print(count)"
   ]
  }
 ],
 "metadata": {
  "kernelspec": {
   "display_name": "Python 3 (ipykernel)",
   "language": "python",
   "name": "python3"
  },
  "language_info": {
   "codemirror_mode": {
    "name": "ipython",
    "version": 3
   },
   "file_extension": ".py",
   "mimetype": "text/x-python",
   "name": "python",
   "nbconvert_exporter": "python",
   "pygments_lexer": "ipython3",
   "version": "3.9.13"
  }
 },
 "nbformat": 4,
 "nbformat_minor": 5
}
